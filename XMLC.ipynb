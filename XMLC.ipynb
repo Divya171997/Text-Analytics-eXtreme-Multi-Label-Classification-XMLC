{
 "cells": [
  {
   "cell_type": "markdown",
   "metadata": {},
   "source": [
    "# Load Required Libraries"
   ]
  },
  {
   "cell_type": "code",
   "execution_count": 33,
   "metadata": {},
   "outputs": [],
   "source": [
    "import os\n",
    "import pandas as pd\n",
    "import gensim\n",
    "import numpy as np"
   ]
  },
  {
   "cell_type": "markdown",
   "metadata": {},
   "source": [
    "## Load Dataset: \"pubmed\""
   ]
  },
  {
   "cell_type": "code",
   "execution_count": 2,
   "metadata": {},
   "outputs": [],
   "source": [
    "df=pd.read_csv('pubmed.csv')"
   ]
  },
  {
   "cell_type": "markdown",
   "metadata": {},
   "source": [
    "## Load Dataset: \"econbiz\""
   ]
  },
  {
   "cell_type": "code",
   "execution_count": 3,
   "metadata": {},
   "outputs": [],
   "source": [
    "df1=pd.read_csv('econbiz.csv')"
   ]
  },
  {
   "cell_type": "code",
   "execution_count": 4,
   "metadata": {},
   "outputs": [],
   "source": [
    "pd.set_option('display.max_colwidth', None)"
   ]
  },
  {
   "cell_type": "code",
   "execution_count": 5,
   "metadata": {},
   "outputs": [],
   "source": [
    "#Select just first few rows from each dataset to avoid Heavy Computation\n",
    "#These lines can be removed or changed \n",
    "#As the number of enteries accuracy will also be improved.\n",
    "df=df.iloc[0:141]\n",
    "df1=df1.iloc[0:335]"
   ]
  },
  {
   "cell_type": "code",
   "execution_count": 6,
   "metadata": {},
   "outputs": [
    {
     "data": {
      "text/html": [
       "<div>\n",
       "<style scoped>\n",
       "    .dataframe tbody tr th:only-of-type {\n",
       "        vertical-align: middle;\n",
       "    }\n",
       "\n",
       "    .dataframe tbody tr th {\n",
       "        vertical-align: top;\n",
       "    }\n",
       "\n",
       "    .dataframe thead th {\n",
       "        text-align: right;\n",
       "    }\n",
       "</style>\n",
       "<table border=\"1\" class=\"dataframe\">\n",
       "  <thead>\n",
       "    <tr style=\"text-align: right;\">\n",
       "      <th></th>\n",
       "      <th>id</th>\n",
       "      <th>title</th>\n",
       "      <th>labels</th>\n",
       "      <th>fold</th>\n",
       "    </tr>\n",
       "  </thead>\n",
       "  <tbody>\n",
       "    <tr>\n",
       "      <th>0</th>\n",
       "      <td>11882252</td>\n",
       "      <td>CFEOM1, the classic familial form of congenital fibrosis of the extraocular muscles, is genetically heterogeneous but does not result from mutations in ARIX.</td>\n",
       "      <td>Female\\tFibrosis\\tGenetic Linkage\\tGenetic Variation\\tHaplotypes\\tHomeodomain Proteins\\tHumans\\tMale\\tMutation\\tOculomotor Muscles\\tOphthalmoplegia\\tPedigree\\tPhenotype</td>\n",
       "      <td>3</td>\n",
       "    </tr>\n",
       "    <tr>\n",
       "      <th>1</th>\n",
       "      <td>11882251</td>\n",
       "      <td>An algorithm and program for finding sequence specific oligonucleotide probes for species identification.</td>\n",
       "      <td>Algorithms\\tComputational Biology\\tCupriavidus necator\\tDatabases, Genetic\\tGammaproteobacteria\\tOligonucleotide Probes\\tRNA, Bacterial\\tRNA, Ribosomal, 18S\\tRNA, Ribosomal, 28S\\tSoftware Design\\tSpecies Specificity\\tSulfolobus\\tThermotoga maritima\\tTreponema</td>\n",
       "      <td>0</td>\n",
       "    </tr>\n",
       "    <tr>\n",
       "      <th>2</th>\n",
       "      <td>11922865</td>\n",
       "      <td>Nerve growth factor selectively regulates expression of transcripts encoding ribosomal proteins.</td>\n",
       "      <td>Animals\\tGene Expression Profiling\\tGene Expression Regulation\\tGene Library\\tNerve Growth Factor\\tPC12 Cells\\tPheochromocytoma\\tRNA, Messenger\\tRats\\tRibosomal Proteins</td>\n",
       "      <td>0</td>\n",
       "    </tr>\n",
       "    <tr>\n",
       "      <th>3</th>\n",
       "      <td>11879527</td>\n",
       "      <td>The use of breast conserving surgery: linking insurance claims with tumor registry data.</td>\n",
       "      <td>Age Factors\\tAged\\tAged, 80 and over\\tBreast Neoplasms\\tDatabases, Factual\\tFemale\\tHawaii\\tHealth Systems Plans\\tHumans\\tInsurance Claim Review\\tMastectomy, Segmental\\tMedicaid\\tMedicare\\tMiddle Aged\\tNeoplasm Staging\\tPilot Projects\\tSEER Program\\tUnited States</td>\n",
       "      <td>0</td>\n",
       "    </tr>\n",
       "    <tr>\n",
       "      <th>4</th>\n",
       "      <td>11914147</td>\n",
       "      <td>Assessment of the infectious diseases surveillance system of the Republic of Armenia: an example of surveillance in the Republics of the former Soviet Union.</td>\n",
       "      <td>Armenia\\tCommunicable Disease Control\\tDisease Notification\\tEfficiency, Organizational\\tGuidelines as Topic\\tHealth Care Reform\\tHumans\\tManagement Audit\\tPopulation Surveillance\\tPublic Health Administration\\tPublic Health Informatics</td>\n",
       "      <td>7</td>\n",
       "    </tr>\n",
       "  </tbody>\n",
       "</table>\n",
       "</div>"
      ],
      "text/plain": [
       "         id  \\\n",
       "0  11882252   \n",
       "1  11882251   \n",
       "2  11922865   \n",
       "3  11879527   \n",
       "4  11914147   \n",
       "\n",
       "                                                                                                                                                           title  \\\n",
       "0  CFEOM1, the classic familial form of congenital fibrosis of the extraocular muscles, is genetically heterogeneous but does not result from mutations in ARIX.   \n",
       "1                                                      An algorithm and program for finding sequence specific oligonucleotide probes for species identification.   \n",
       "2                                                               Nerve growth factor selectively regulates expression of transcripts encoding ribosomal proteins.   \n",
       "3                                                                       The use of breast conserving surgery: linking insurance claims with tumor registry data.   \n",
       "4  Assessment of the infectious diseases surveillance system of the Republic of Armenia: an example of surveillance in the Republics of the former Soviet Union.   \n",
       "\n",
       "                                                                                                                                                                                                                                                                    labels  \\\n",
       "0                                                                                                 Female\\tFibrosis\\tGenetic Linkage\\tGenetic Variation\\tHaplotypes\\tHomeodomain Proteins\\tHumans\\tMale\\tMutation\\tOculomotor Muscles\\tOphthalmoplegia\\tPedigree\\tPhenotype   \n",
       "1      Algorithms\\tComputational Biology\\tCupriavidus necator\\tDatabases, Genetic\\tGammaproteobacteria\\tOligonucleotide Probes\\tRNA, Bacterial\\tRNA, Ribosomal, 18S\\tRNA, Ribosomal, 28S\\tSoftware Design\\tSpecies Specificity\\tSulfolobus\\tThermotoga maritima\\tTreponema   \n",
       "2                                                                                                Animals\\tGene Expression Profiling\\tGene Expression Regulation\\tGene Library\\tNerve Growth Factor\\tPC12 Cells\\tPheochromocytoma\\tRNA, Messenger\\tRats\\tRibosomal Proteins   \n",
       "3  Age Factors\\tAged\\tAged, 80 and over\\tBreast Neoplasms\\tDatabases, Factual\\tFemale\\tHawaii\\tHealth Systems Plans\\tHumans\\tInsurance Claim Review\\tMastectomy, Segmental\\tMedicaid\\tMedicare\\tMiddle Aged\\tNeoplasm Staging\\tPilot Projects\\tSEER Program\\tUnited States   \n",
       "4                             Armenia\\tCommunicable Disease Control\\tDisease Notification\\tEfficiency, Organizational\\tGuidelines as Topic\\tHealth Care Reform\\tHumans\\tManagement Audit\\tPopulation Surveillance\\tPublic Health Administration\\tPublic Health Informatics   \n",
       "\n",
       "   fold  \n",
       "0     3  \n",
       "1     0  \n",
       "2     0  \n",
       "3     0  \n",
       "4     7  "
      ]
     },
     "execution_count": 6,
     "metadata": {},
     "output_type": "execute_result"
    }
   ],
   "source": [
    "df.head()"
   ]
  },
  {
   "cell_type": "code",
   "execution_count": 7,
   "metadata": {},
   "outputs": [
    {
     "data": {
      "text/html": [
       "<div>\n",
       "<style scoped>\n",
       "    .dataframe tbody tr th:only-of-type {\n",
       "        vertical-align: middle;\n",
       "    }\n",
       "\n",
       "    .dataframe tbody tr th {\n",
       "        vertical-align: top;\n",
       "    }\n",
       "\n",
       "    .dataframe thead th {\n",
       "        text-align: right;\n",
       "    }\n",
       "</style>\n",
       "<table border=\"1\" class=\"dataframe\">\n",
       "  <thead>\n",
       "    <tr style=\"text-align: right;\">\n",
       "      <th></th>\n",
       "      <th>id</th>\n",
       "      <th>title</th>\n",
       "      <th>labels</th>\n",
       "      <th>fold</th>\n",
       "    </tr>\n",
       "  </thead>\n",
       "  <tbody>\n",
       "    <tr>\n",
       "      <th>0</th>\n",
       "      <td>10000168395</td>\n",
       "      <td>Water insecurity and the poor : issues and research needs</td>\n",
       "      <td>18377-5\\t18378-3\\t18232-3\\t10488-1\\t10492-3</td>\n",
       "      <td>6</td>\n",
       "    </tr>\n",
       "    <tr>\n",
       "      <th>1</th>\n",
       "      <td>10000168396</td>\n",
       "      <td>Crop biotechnology in developing countries : a conceptual framework for ex ante economic analyses</td>\n",
       "      <td>18317-2\\t16696-6\\t11529-1\\t10492-3</td>\n",
       "      <td>8</td>\n",
       "    </tr>\n",
       "    <tr>\n",
       "      <th>2</th>\n",
       "      <td>10000338739</td>\n",
       "      <td>Medicaid, intergovernmental trends and options</td>\n",
       "      <td>13415-6\\t19507-6\\t19517-3\\t11600-0\\t17829-1</td>\n",
       "      <td>8</td>\n",
       "    </tr>\n",
       "    <tr>\n",
       "      <th>3</th>\n",
       "      <td>10000413084</td>\n",
       "      <td>State solvency regulation of property-casualty and life insurance companies : a commission report</td>\n",
       "      <td>13297-0\\t13294-6\\t13818-5\\t12228-3\\t10894-4\\t17829-1</td>\n",
       "      <td>2</td>\n",
       "    </tr>\n",
       "    <tr>\n",
       "      <th>4</th>\n",
       "      <td>10000549504</td>\n",
       "      <td>Tax and expenditure limits on local governments</td>\n",
       "      <td>11553-4\\t11653-0\\t11539-5\\t11731-6\\t17829-1</td>\n",
       "      <td>8</td>\n",
       "    </tr>\n",
       "  </tbody>\n",
       "</table>\n",
       "</div>"
      ],
      "text/plain": [
       "            id  \\\n",
       "0  10000168395   \n",
       "1  10000168396   \n",
       "2  10000338739   \n",
       "3  10000413084   \n",
       "4  10000549504   \n",
       "\n",
       "                                                                                               title  \\\n",
       "0                                          Water insecurity and the poor : issues and research needs   \n",
       "1  Crop biotechnology in developing countries : a conceptual framework for ex ante economic analyses   \n",
       "2                                                     Medicaid, intergovernmental trends and options   \n",
       "3  State solvency regulation of property-casualty and life insurance companies : a commission report   \n",
       "4                                                    Tax and expenditure limits on local governments   \n",
       "\n",
       "                                                 labels  fold  \n",
       "0           18377-5\\t18378-3\\t18232-3\\t10488-1\\t10492-3     6  \n",
       "1                    18317-2\\t16696-6\\t11529-1\\t10492-3     8  \n",
       "2           13415-6\\t19507-6\\t19517-3\\t11600-0\\t17829-1     8  \n",
       "3  13297-0\\t13294-6\\t13818-5\\t12228-3\\t10894-4\\t17829-1     2  \n",
       "4           11553-4\\t11653-0\\t11539-5\\t11731-6\\t17829-1     8  "
      ]
     },
     "execution_count": 7,
     "metadata": {},
     "output_type": "execute_result"
    }
   ],
   "source": [
    "df1.head()"
   ]
  },
  {
   "cell_type": "code",
   "execution_count": 8,
   "metadata": {},
   "outputs": [
    {
     "data": {
      "text/plain": [
       "(141, 4)"
      ]
     },
     "execution_count": 8,
     "metadata": {},
     "output_type": "execute_result"
    }
   ],
   "source": [
    "df.shape "
   ]
  },
  {
   "cell_type": "code",
   "execution_count": 9,
   "metadata": {},
   "outputs": [
    {
     "data": {
      "text/plain": [
       "(335, 4)"
      ]
     },
     "execution_count": 9,
     "metadata": {},
     "output_type": "execute_result"
    }
   ],
   "source": [
    "df1.shape "
   ]
  },
  {
   "cell_type": "code",
   "execution_count": 10,
   "metadata": {},
   "outputs": [
    {
     "data": {
      "text/plain": [
       "id        0\n",
       "title     0\n",
       "labels    0\n",
       "fold      0\n",
       "dtype: int64"
      ]
     },
     "execution_count": 10,
     "metadata": {},
     "output_type": "execute_result"
    }
   ],
   "source": [
    "df.isnull().sum()"
   ]
  },
  {
   "cell_type": "code",
   "execution_count": 11,
   "metadata": {},
   "outputs": [
    {
     "data": {
      "text/plain": [
       "id        0\n",
       "title     0\n",
       "labels    0\n",
       "fold      0\n",
       "dtype: int64"
      ]
     },
     "execution_count": 11,
     "metadata": {},
     "output_type": "execute_result"
    }
   ],
   "source": [
    "df1.isnull().sum()"
   ]
  },
  {
   "cell_type": "markdown",
   "metadata": {},
   "source": [
    "## Data Pre-processing"
   ]
  },
  {
   "cell_type": "code",
   "execution_count": 12,
   "metadata": {},
   "outputs": [],
   "source": [
    "#Data Pre-processing has been carried out in both datasets.\n",
    "#Make all letters lowercase in pubmed dataset\n",
    "df['title'] = df['title'].apply(lambda x: \" \".join(x.lower() for x in x.split()))"
   ]
  },
  {
   "cell_type": "code",
   "execution_count": 13,
   "metadata": {},
   "outputs": [
    {
     "data": {
      "text/html": [
       "<div>\n",
       "<style scoped>\n",
       "    .dataframe tbody tr th:only-of-type {\n",
       "        vertical-align: middle;\n",
       "    }\n",
       "\n",
       "    .dataframe tbody tr th {\n",
       "        vertical-align: top;\n",
       "    }\n",
       "\n",
       "    .dataframe thead th {\n",
       "        text-align: right;\n",
       "    }\n",
       "</style>\n",
       "<table border=\"1\" class=\"dataframe\">\n",
       "  <thead>\n",
       "    <tr style=\"text-align: right;\">\n",
       "      <th></th>\n",
       "      <th>id</th>\n",
       "      <th>title</th>\n",
       "      <th>labels</th>\n",
       "      <th>fold</th>\n",
       "    </tr>\n",
       "  </thead>\n",
       "  <tbody>\n",
       "    <tr>\n",
       "      <th>0</th>\n",
       "      <td>11882252</td>\n",
       "      <td>cfeom1, the classic familial form of congenital fibrosis of the extraocular muscles, is genetically heterogeneous but does not result from mutations in arix.</td>\n",
       "      <td>Female\\tFibrosis\\tGenetic Linkage\\tGenetic Variation\\tHaplotypes\\tHomeodomain Proteins\\tHumans\\tMale\\tMutation\\tOculomotor Muscles\\tOphthalmoplegia\\tPedigree\\tPhenotype</td>\n",
       "      <td>3</td>\n",
       "    </tr>\n",
       "    <tr>\n",
       "      <th>1</th>\n",
       "      <td>11882251</td>\n",
       "      <td>an algorithm and program for finding sequence specific oligonucleotide probes for species identification.</td>\n",
       "      <td>Algorithms\\tComputational Biology\\tCupriavidus necator\\tDatabases, Genetic\\tGammaproteobacteria\\tOligonucleotide Probes\\tRNA, Bacterial\\tRNA, Ribosomal, 18S\\tRNA, Ribosomal, 28S\\tSoftware Design\\tSpecies Specificity\\tSulfolobus\\tThermotoga maritima\\tTreponema</td>\n",
       "      <td>0</td>\n",
       "    </tr>\n",
       "    <tr>\n",
       "      <th>2</th>\n",
       "      <td>11922865</td>\n",
       "      <td>nerve growth factor selectively regulates expression of transcripts encoding ribosomal proteins.</td>\n",
       "      <td>Animals\\tGene Expression Profiling\\tGene Expression Regulation\\tGene Library\\tNerve Growth Factor\\tPC12 Cells\\tPheochromocytoma\\tRNA, Messenger\\tRats\\tRibosomal Proteins</td>\n",
       "      <td>0</td>\n",
       "    </tr>\n",
       "    <tr>\n",
       "      <th>3</th>\n",
       "      <td>11879527</td>\n",
       "      <td>the use of breast conserving surgery: linking insurance claims with tumor registry data.</td>\n",
       "      <td>Age Factors\\tAged\\tAged, 80 and over\\tBreast Neoplasms\\tDatabases, Factual\\tFemale\\tHawaii\\tHealth Systems Plans\\tHumans\\tInsurance Claim Review\\tMastectomy, Segmental\\tMedicaid\\tMedicare\\tMiddle Aged\\tNeoplasm Staging\\tPilot Projects\\tSEER Program\\tUnited States</td>\n",
       "      <td>0</td>\n",
       "    </tr>\n",
       "    <tr>\n",
       "      <th>4</th>\n",
       "      <td>11914147</td>\n",
       "      <td>assessment of the infectious diseases surveillance system of the republic of armenia: an example of surveillance in the republics of the former soviet union.</td>\n",
       "      <td>Armenia\\tCommunicable Disease Control\\tDisease Notification\\tEfficiency, Organizational\\tGuidelines as Topic\\tHealth Care Reform\\tHumans\\tManagement Audit\\tPopulation Surveillance\\tPublic Health Administration\\tPublic Health Informatics</td>\n",
       "      <td>7</td>\n",
       "    </tr>\n",
       "  </tbody>\n",
       "</table>\n",
       "</div>"
      ],
      "text/plain": [
       "         id  \\\n",
       "0  11882252   \n",
       "1  11882251   \n",
       "2  11922865   \n",
       "3  11879527   \n",
       "4  11914147   \n",
       "\n",
       "                                                                                                                                                           title  \\\n",
       "0  cfeom1, the classic familial form of congenital fibrosis of the extraocular muscles, is genetically heterogeneous but does not result from mutations in arix.   \n",
       "1                                                      an algorithm and program for finding sequence specific oligonucleotide probes for species identification.   \n",
       "2                                                               nerve growth factor selectively regulates expression of transcripts encoding ribosomal proteins.   \n",
       "3                                                                       the use of breast conserving surgery: linking insurance claims with tumor registry data.   \n",
       "4  assessment of the infectious diseases surveillance system of the republic of armenia: an example of surveillance in the republics of the former soviet union.   \n",
       "\n",
       "                                                                                                                                                                                                                                                                    labels  \\\n",
       "0                                                                                                 Female\\tFibrosis\\tGenetic Linkage\\tGenetic Variation\\tHaplotypes\\tHomeodomain Proteins\\tHumans\\tMale\\tMutation\\tOculomotor Muscles\\tOphthalmoplegia\\tPedigree\\tPhenotype   \n",
       "1      Algorithms\\tComputational Biology\\tCupriavidus necator\\tDatabases, Genetic\\tGammaproteobacteria\\tOligonucleotide Probes\\tRNA, Bacterial\\tRNA, Ribosomal, 18S\\tRNA, Ribosomal, 28S\\tSoftware Design\\tSpecies Specificity\\tSulfolobus\\tThermotoga maritima\\tTreponema   \n",
       "2                                                                                                Animals\\tGene Expression Profiling\\tGene Expression Regulation\\tGene Library\\tNerve Growth Factor\\tPC12 Cells\\tPheochromocytoma\\tRNA, Messenger\\tRats\\tRibosomal Proteins   \n",
       "3  Age Factors\\tAged\\tAged, 80 and over\\tBreast Neoplasms\\tDatabases, Factual\\tFemale\\tHawaii\\tHealth Systems Plans\\tHumans\\tInsurance Claim Review\\tMastectomy, Segmental\\tMedicaid\\tMedicare\\tMiddle Aged\\tNeoplasm Staging\\tPilot Projects\\tSEER Program\\tUnited States   \n",
       "4                             Armenia\\tCommunicable Disease Control\\tDisease Notification\\tEfficiency, Organizational\\tGuidelines as Topic\\tHealth Care Reform\\tHumans\\tManagement Audit\\tPopulation Surveillance\\tPublic Health Administration\\tPublic Health Informatics   \n",
       "\n",
       "   fold  \n",
       "0     3  \n",
       "1     0  \n",
       "2     0  \n",
       "3     0  \n",
       "4     7  "
      ]
     },
     "execution_count": 13,
     "metadata": {},
     "output_type": "execute_result"
    }
   ],
   "source": [
    "df.head()"
   ]
  },
  {
   "cell_type": "code",
   "execution_count": 14,
   "metadata": {},
   "outputs": [],
   "source": [
    "#Make all letters lowercase in econbiz dataset\n",
    "df1['title'] = df1['title'].apply(lambda z: \" \".join(z.lower() for z in z.split()))"
   ]
  },
  {
   "cell_type": "code",
   "execution_count": 15,
   "metadata": {},
   "outputs": [
    {
     "data": {
      "text/html": [
       "<div>\n",
       "<style scoped>\n",
       "    .dataframe tbody tr th:only-of-type {\n",
       "        vertical-align: middle;\n",
       "    }\n",
       "\n",
       "    .dataframe tbody tr th {\n",
       "        vertical-align: top;\n",
       "    }\n",
       "\n",
       "    .dataframe thead th {\n",
       "        text-align: right;\n",
       "    }\n",
       "</style>\n",
       "<table border=\"1\" class=\"dataframe\">\n",
       "  <thead>\n",
       "    <tr style=\"text-align: right;\">\n",
       "      <th></th>\n",
       "      <th>id</th>\n",
       "      <th>title</th>\n",
       "      <th>labels</th>\n",
       "      <th>fold</th>\n",
       "    </tr>\n",
       "  </thead>\n",
       "  <tbody>\n",
       "    <tr>\n",
       "      <th>0</th>\n",
       "      <td>10000168395</td>\n",
       "      <td>water insecurity and the poor : issues and research needs</td>\n",
       "      <td>18377-5\\t18378-3\\t18232-3\\t10488-1\\t10492-3</td>\n",
       "      <td>6</td>\n",
       "    </tr>\n",
       "    <tr>\n",
       "      <th>1</th>\n",
       "      <td>10000168396</td>\n",
       "      <td>crop biotechnology in developing countries : a conceptual framework for ex ante economic analyses</td>\n",
       "      <td>18317-2\\t16696-6\\t11529-1\\t10492-3</td>\n",
       "      <td>8</td>\n",
       "    </tr>\n",
       "    <tr>\n",
       "      <th>2</th>\n",
       "      <td>10000338739</td>\n",
       "      <td>medicaid, intergovernmental trends and options</td>\n",
       "      <td>13415-6\\t19507-6\\t19517-3\\t11600-0\\t17829-1</td>\n",
       "      <td>8</td>\n",
       "    </tr>\n",
       "    <tr>\n",
       "      <th>3</th>\n",
       "      <td>10000413084</td>\n",
       "      <td>state solvency regulation of property-casualty and life insurance companies : a commission report</td>\n",
       "      <td>13297-0\\t13294-6\\t13818-5\\t12228-3\\t10894-4\\t17829-1</td>\n",
       "      <td>2</td>\n",
       "    </tr>\n",
       "    <tr>\n",
       "      <th>4</th>\n",
       "      <td>10000549504</td>\n",
       "      <td>tax and expenditure limits on local governments</td>\n",
       "      <td>11553-4\\t11653-0\\t11539-5\\t11731-6\\t17829-1</td>\n",
       "      <td>8</td>\n",
       "    </tr>\n",
       "  </tbody>\n",
       "</table>\n",
       "</div>"
      ],
      "text/plain": [
       "            id  \\\n",
       "0  10000168395   \n",
       "1  10000168396   \n",
       "2  10000338739   \n",
       "3  10000413084   \n",
       "4  10000549504   \n",
       "\n",
       "                                                                                               title  \\\n",
       "0                                          water insecurity and the poor : issues and research needs   \n",
       "1  crop biotechnology in developing countries : a conceptual framework for ex ante economic analyses   \n",
       "2                                                     medicaid, intergovernmental trends and options   \n",
       "3  state solvency regulation of property-casualty and life insurance companies : a commission report   \n",
       "4                                                    tax and expenditure limits on local governments   \n",
       "\n",
       "                                                 labels  fold  \n",
       "0           18377-5\\t18378-3\\t18232-3\\t10488-1\\t10492-3     6  \n",
       "1                    18317-2\\t16696-6\\t11529-1\\t10492-3     8  \n",
       "2           13415-6\\t19507-6\\t19517-3\\t11600-0\\t17829-1     8  \n",
       "3  13297-0\\t13294-6\\t13818-5\\t12228-3\\t10894-4\\t17829-1     2  \n",
       "4           11553-4\\t11653-0\\t11539-5\\t11731-6\\t17829-1     8  "
      ]
     },
     "execution_count": 15,
     "metadata": {},
     "output_type": "execute_result"
    }
   ],
   "source": [
    "df1.head()"
   ]
  },
  {
   "cell_type": "code",
   "execution_count": 16,
   "metadata": {},
   "outputs": [],
   "source": [
    "#Remove Punctuation, Symbols to simplify text\n",
    "df['title'] = df['title'].str.replace('[^\\w\\s]',' ')"
   ]
  },
  {
   "cell_type": "code",
   "execution_count": 17,
   "metadata": {},
   "outputs": [
    {
     "data": {
      "text/html": [
       "<div>\n",
       "<style scoped>\n",
       "    .dataframe tbody tr th:only-of-type {\n",
       "        vertical-align: middle;\n",
       "    }\n",
       "\n",
       "    .dataframe tbody tr th {\n",
       "        vertical-align: top;\n",
       "    }\n",
       "\n",
       "    .dataframe thead th {\n",
       "        text-align: right;\n",
       "    }\n",
       "</style>\n",
       "<table border=\"1\" class=\"dataframe\">\n",
       "  <thead>\n",
       "    <tr style=\"text-align: right;\">\n",
       "      <th></th>\n",
       "      <th>id</th>\n",
       "      <th>title</th>\n",
       "      <th>labels</th>\n",
       "      <th>fold</th>\n",
       "    </tr>\n",
       "  </thead>\n",
       "  <tbody>\n",
       "    <tr>\n",
       "      <th>0</th>\n",
       "      <td>11882252</td>\n",
       "      <td>cfeom1  the classic familial form of congenital fibrosis of the extraocular muscles  is genetically heterogeneous but does not result from mutations in arix</td>\n",
       "      <td>Female\\tFibrosis\\tGenetic Linkage\\tGenetic Variation\\tHaplotypes\\tHomeodomain Proteins\\tHumans\\tMale\\tMutation\\tOculomotor Muscles\\tOphthalmoplegia\\tPedigree\\tPhenotype</td>\n",
       "      <td>3</td>\n",
       "    </tr>\n",
       "    <tr>\n",
       "      <th>1</th>\n",
       "      <td>11882251</td>\n",
       "      <td>an algorithm and program for finding sequence specific oligonucleotide probes for species identification</td>\n",
       "      <td>Algorithms\\tComputational Biology\\tCupriavidus necator\\tDatabases, Genetic\\tGammaproteobacteria\\tOligonucleotide Probes\\tRNA, Bacterial\\tRNA, Ribosomal, 18S\\tRNA, Ribosomal, 28S\\tSoftware Design\\tSpecies Specificity\\tSulfolobus\\tThermotoga maritima\\tTreponema</td>\n",
       "      <td>0</td>\n",
       "    </tr>\n",
       "    <tr>\n",
       "      <th>2</th>\n",
       "      <td>11922865</td>\n",
       "      <td>nerve growth factor selectively regulates expression of transcripts encoding ribosomal proteins</td>\n",
       "      <td>Animals\\tGene Expression Profiling\\tGene Expression Regulation\\tGene Library\\tNerve Growth Factor\\tPC12 Cells\\tPheochromocytoma\\tRNA, Messenger\\tRats\\tRibosomal Proteins</td>\n",
       "      <td>0</td>\n",
       "    </tr>\n",
       "    <tr>\n",
       "      <th>3</th>\n",
       "      <td>11879527</td>\n",
       "      <td>the use of breast conserving surgery  linking insurance claims with tumor registry data</td>\n",
       "      <td>Age Factors\\tAged\\tAged, 80 and over\\tBreast Neoplasms\\tDatabases, Factual\\tFemale\\tHawaii\\tHealth Systems Plans\\tHumans\\tInsurance Claim Review\\tMastectomy, Segmental\\tMedicaid\\tMedicare\\tMiddle Aged\\tNeoplasm Staging\\tPilot Projects\\tSEER Program\\tUnited States</td>\n",
       "      <td>0</td>\n",
       "    </tr>\n",
       "    <tr>\n",
       "      <th>4</th>\n",
       "      <td>11914147</td>\n",
       "      <td>assessment of the infectious diseases surveillance system of the republic of armenia  an example of surveillance in the republics of the former soviet union</td>\n",
       "      <td>Armenia\\tCommunicable Disease Control\\tDisease Notification\\tEfficiency, Organizational\\tGuidelines as Topic\\tHealth Care Reform\\tHumans\\tManagement Audit\\tPopulation Surveillance\\tPublic Health Administration\\tPublic Health Informatics</td>\n",
       "      <td>7</td>\n",
       "    </tr>\n",
       "  </tbody>\n",
       "</table>\n",
       "</div>"
      ],
      "text/plain": [
       "         id  \\\n",
       "0  11882252   \n",
       "1  11882251   \n",
       "2  11922865   \n",
       "3  11879527   \n",
       "4  11914147   \n",
       "\n",
       "                                                                                                                                                           title  \\\n",
       "0  cfeom1  the classic familial form of congenital fibrosis of the extraocular muscles  is genetically heterogeneous but does not result from mutations in arix    \n",
       "1                                                      an algorithm and program for finding sequence specific oligonucleotide probes for species identification    \n",
       "2                                                               nerve growth factor selectively regulates expression of transcripts encoding ribosomal proteins    \n",
       "3                                                                       the use of breast conserving surgery  linking insurance claims with tumor registry data    \n",
       "4  assessment of the infectious diseases surveillance system of the republic of armenia  an example of surveillance in the republics of the former soviet union    \n",
       "\n",
       "                                                                                                                                                                                                                                                                    labels  \\\n",
       "0                                                                                                 Female\\tFibrosis\\tGenetic Linkage\\tGenetic Variation\\tHaplotypes\\tHomeodomain Proteins\\tHumans\\tMale\\tMutation\\tOculomotor Muscles\\tOphthalmoplegia\\tPedigree\\tPhenotype   \n",
       "1      Algorithms\\tComputational Biology\\tCupriavidus necator\\tDatabases, Genetic\\tGammaproteobacteria\\tOligonucleotide Probes\\tRNA, Bacterial\\tRNA, Ribosomal, 18S\\tRNA, Ribosomal, 28S\\tSoftware Design\\tSpecies Specificity\\tSulfolobus\\tThermotoga maritima\\tTreponema   \n",
       "2                                                                                                Animals\\tGene Expression Profiling\\tGene Expression Regulation\\tGene Library\\tNerve Growth Factor\\tPC12 Cells\\tPheochromocytoma\\tRNA, Messenger\\tRats\\tRibosomal Proteins   \n",
       "3  Age Factors\\tAged\\tAged, 80 and over\\tBreast Neoplasms\\tDatabases, Factual\\tFemale\\tHawaii\\tHealth Systems Plans\\tHumans\\tInsurance Claim Review\\tMastectomy, Segmental\\tMedicaid\\tMedicare\\tMiddle Aged\\tNeoplasm Staging\\tPilot Projects\\tSEER Program\\tUnited States   \n",
       "4                             Armenia\\tCommunicable Disease Control\\tDisease Notification\\tEfficiency, Organizational\\tGuidelines as Topic\\tHealth Care Reform\\tHumans\\tManagement Audit\\tPopulation Surveillance\\tPublic Health Administration\\tPublic Health Informatics   \n",
       "\n",
       "   fold  \n",
       "0     3  \n",
       "1     0  \n",
       "2     0  \n",
       "3     0  \n",
       "4     7  "
      ]
     },
     "execution_count": 17,
     "metadata": {},
     "output_type": "execute_result"
    }
   ],
   "source": [
    "df.head()"
   ]
  },
  {
   "cell_type": "code",
   "execution_count": 18,
   "metadata": {},
   "outputs": [],
   "source": [
    "#Remove Punctuation, Symbols to simplify text\n",
    "df1['title'] = df1['title'].str.replace('[^\\w\\s]',' ')"
   ]
  },
  {
   "cell_type": "code",
   "execution_count": 19,
   "metadata": {},
   "outputs": [
    {
     "data": {
      "text/html": [
       "<div>\n",
       "<style scoped>\n",
       "    .dataframe tbody tr th:only-of-type {\n",
       "        vertical-align: middle;\n",
       "    }\n",
       "\n",
       "    .dataframe tbody tr th {\n",
       "        vertical-align: top;\n",
       "    }\n",
       "\n",
       "    .dataframe thead th {\n",
       "        text-align: right;\n",
       "    }\n",
       "</style>\n",
       "<table border=\"1\" class=\"dataframe\">\n",
       "  <thead>\n",
       "    <tr style=\"text-align: right;\">\n",
       "      <th></th>\n",
       "      <th>id</th>\n",
       "      <th>title</th>\n",
       "      <th>labels</th>\n",
       "      <th>fold</th>\n",
       "    </tr>\n",
       "  </thead>\n",
       "  <tbody>\n",
       "    <tr>\n",
       "      <th>0</th>\n",
       "      <td>10000168395</td>\n",
       "      <td>water insecurity and the poor   issues and research needs</td>\n",
       "      <td>18377-5\\t18378-3\\t18232-3\\t10488-1\\t10492-3</td>\n",
       "      <td>6</td>\n",
       "    </tr>\n",
       "    <tr>\n",
       "      <th>1</th>\n",
       "      <td>10000168396</td>\n",
       "      <td>crop biotechnology in developing countries   a conceptual framework for ex ante economic analyses</td>\n",
       "      <td>18317-2\\t16696-6\\t11529-1\\t10492-3</td>\n",
       "      <td>8</td>\n",
       "    </tr>\n",
       "    <tr>\n",
       "      <th>2</th>\n",
       "      <td>10000338739</td>\n",
       "      <td>medicaid  intergovernmental trends and options</td>\n",
       "      <td>13415-6\\t19507-6\\t19517-3\\t11600-0\\t17829-1</td>\n",
       "      <td>8</td>\n",
       "    </tr>\n",
       "    <tr>\n",
       "      <th>3</th>\n",
       "      <td>10000413084</td>\n",
       "      <td>state solvency regulation of property casualty and life insurance companies   a commission report</td>\n",
       "      <td>13297-0\\t13294-6\\t13818-5\\t12228-3\\t10894-4\\t17829-1</td>\n",
       "      <td>2</td>\n",
       "    </tr>\n",
       "    <tr>\n",
       "      <th>4</th>\n",
       "      <td>10000549504</td>\n",
       "      <td>tax and expenditure limits on local governments</td>\n",
       "      <td>11553-4\\t11653-0\\t11539-5\\t11731-6\\t17829-1</td>\n",
       "      <td>8</td>\n",
       "    </tr>\n",
       "  </tbody>\n",
       "</table>\n",
       "</div>"
      ],
      "text/plain": [
       "            id  \\\n",
       "0  10000168395   \n",
       "1  10000168396   \n",
       "2  10000338739   \n",
       "3  10000413084   \n",
       "4  10000549504   \n",
       "\n",
       "                                                                                               title  \\\n",
       "0                                          water insecurity and the poor   issues and research needs   \n",
       "1  crop biotechnology in developing countries   a conceptual framework for ex ante economic analyses   \n",
       "2                                                     medicaid  intergovernmental trends and options   \n",
       "3  state solvency regulation of property casualty and life insurance companies   a commission report   \n",
       "4                                                    tax and expenditure limits on local governments   \n",
       "\n",
       "                                                 labels  fold  \n",
       "0           18377-5\\t18378-3\\t18232-3\\t10488-1\\t10492-3     6  \n",
       "1                    18317-2\\t16696-6\\t11529-1\\t10492-3     8  \n",
       "2           13415-6\\t19507-6\\t19517-3\\t11600-0\\t17829-1     8  \n",
       "3  13297-0\\t13294-6\\t13818-5\\t12228-3\\t10894-4\\t17829-1     2  \n",
       "4           11553-4\\t11653-0\\t11539-5\\t11731-6\\t17829-1     8  "
      ]
     },
     "execution_count": 19,
     "metadata": {},
     "output_type": "execute_result"
    }
   ],
   "source": [
    "df1.head()"
   ]
  },
  {
   "cell_type": "code",
   "execution_count": 20,
   "metadata": {},
   "outputs": [],
   "source": [
    "#Remove Stop Words using NLTK\n",
    "from nltk.corpus import stopwords\n",
    "stop = stopwords.words('english')\n",
    "df['title'] = df['title'].apply(lambda x: \" \".join(x for x in x.split() if x not in stop))\n",
    "df['labels'] = df['labels'].apply(lambda x: \" \".join(x for x in x.split() if x not in stop))"
   ]
  },
  {
   "cell_type": "code",
   "execution_count": 21,
   "metadata": {},
   "outputs": [
    {
     "data": {
      "text/html": [
       "<div>\n",
       "<style scoped>\n",
       "    .dataframe tbody tr th:only-of-type {\n",
       "        vertical-align: middle;\n",
       "    }\n",
       "\n",
       "    .dataframe tbody tr th {\n",
       "        vertical-align: top;\n",
       "    }\n",
       "\n",
       "    .dataframe thead th {\n",
       "        text-align: right;\n",
       "    }\n",
       "</style>\n",
       "<table border=\"1\" class=\"dataframe\">\n",
       "  <thead>\n",
       "    <tr style=\"text-align: right;\">\n",
       "      <th></th>\n",
       "      <th>id</th>\n",
       "      <th>title</th>\n",
       "      <th>labels</th>\n",
       "      <th>fold</th>\n",
       "    </tr>\n",
       "  </thead>\n",
       "  <tbody>\n",
       "    <tr>\n",
       "      <th>0</th>\n",
       "      <td>11882252</td>\n",
       "      <td>cfeom1 classic familial form congenital fibrosis extraocular muscles genetically heterogeneous result mutations arix</td>\n",
       "      <td>Female Fibrosis Genetic Linkage Genetic Variation Haplotypes Homeodomain Proteins Humans Male Mutation Oculomotor Muscles Ophthalmoplegia Pedigree Phenotype</td>\n",
       "      <td>3</td>\n",
       "    </tr>\n",
       "    <tr>\n",
       "      <th>1</th>\n",
       "      <td>11882251</td>\n",
       "      <td>algorithm program finding sequence specific oligonucleotide probes species identification</td>\n",
       "      <td>Algorithms Computational Biology Cupriavidus necator Databases, Genetic Gammaproteobacteria Oligonucleotide Probes RNA, Bacterial RNA, Ribosomal, 18S RNA, Ribosomal, 28S Software Design Species Specificity Sulfolobus Thermotoga maritima Treponema</td>\n",
       "      <td>0</td>\n",
       "    </tr>\n",
       "    <tr>\n",
       "      <th>2</th>\n",
       "      <td>11922865</td>\n",
       "      <td>nerve growth factor selectively regulates expression transcripts encoding ribosomal proteins</td>\n",
       "      <td>Animals Gene Expression Profiling Gene Expression Regulation Gene Library Nerve Growth Factor PC12 Cells Pheochromocytoma RNA, Messenger Rats Ribosomal Proteins</td>\n",
       "      <td>0</td>\n",
       "    </tr>\n",
       "    <tr>\n",
       "      <th>3</th>\n",
       "      <td>11879527</td>\n",
       "      <td>use breast conserving surgery linking insurance claims tumor registry data</td>\n",
       "      <td>Age Factors Aged Aged, 80 Breast Neoplasms Databases, Factual Female Hawaii Health Systems Plans Humans Insurance Claim Review Mastectomy, Segmental Medicaid Medicare Middle Aged Neoplasm Staging Pilot Projects SEER Program United States</td>\n",
       "      <td>0</td>\n",
       "    </tr>\n",
       "    <tr>\n",
       "      <th>4</th>\n",
       "      <td>11914147</td>\n",
       "      <td>assessment infectious diseases surveillance system republic armenia example surveillance republics former soviet union</td>\n",
       "      <td>Armenia Communicable Disease Control Disease Notification Efficiency, Organizational Guidelines Topic Health Care Reform Humans Management Audit Population Surveillance Public Health Administration Public Health Informatics</td>\n",
       "      <td>7</td>\n",
       "    </tr>\n",
       "  </tbody>\n",
       "</table>\n",
       "</div>"
      ],
      "text/plain": [
       "         id  \\\n",
       "0  11882252   \n",
       "1  11882251   \n",
       "2  11922865   \n",
       "3  11879527   \n",
       "4  11914147   \n",
       "\n",
       "                                                                                                                    title  \\\n",
       "0    cfeom1 classic familial form congenital fibrosis extraocular muscles genetically heterogeneous result mutations arix   \n",
       "1                               algorithm program finding sequence specific oligonucleotide probes species identification   \n",
       "2                            nerve growth factor selectively regulates expression transcripts encoding ribosomal proteins   \n",
       "3                                              use breast conserving surgery linking insurance claims tumor registry data   \n",
       "4  assessment infectious diseases surveillance system republic armenia example surveillance republics former soviet union   \n",
       "\n",
       "                                                                                                                                                                                                                                                   labels  \\\n",
       "0                                                                                            Female Fibrosis Genetic Linkage Genetic Variation Haplotypes Homeodomain Proteins Humans Male Mutation Oculomotor Muscles Ophthalmoplegia Pedigree Phenotype   \n",
       "1  Algorithms Computational Biology Cupriavidus necator Databases, Genetic Gammaproteobacteria Oligonucleotide Probes RNA, Bacterial RNA, Ribosomal, 18S RNA, Ribosomal, 28S Software Design Species Specificity Sulfolobus Thermotoga maritima Treponema   \n",
       "2                                                                                        Animals Gene Expression Profiling Gene Expression Regulation Gene Library Nerve Growth Factor PC12 Cells Pheochromocytoma RNA, Messenger Rats Ribosomal Proteins   \n",
       "3           Age Factors Aged Aged, 80 Breast Neoplasms Databases, Factual Female Hawaii Health Systems Plans Humans Insurance Claim Review Mastectomy, Segmental Medicaid Medicare Middle Aged Neoplasm Staging Pilot Projects SEER Program United States   \n",
       "4                         Armenia Communicable Disease Control Disease Notification Efficiency, Organizational Guidelines Topic Health Care Reform Humans Management Audit Population Surveillance Public Health Administration Public Health Informatics   \n",
       "\n",
       "   fold  \n",
       "0     3  \n",
       "1     0  \n",
       "2     0  \n",
       "3     0  \n",
       "4     7  "
      ]
     },
     "execution_count": 21,
     "metadata": {},
     "output_type": "execute_result"
    }
   ],
   "source": [
    "df.head()"
   ]
  },
  {
   "cell_type": "code",
   "execution_count": 22,
   "metadata": {},
   "outputs": [],
   "source": [
    "#Remove Stop Words using NLTK\n",
    "from nltk.corpus import stopwords\n",
    "stop = stopwords.words('english')\n",
    "df1['title'] = df1['title'].apply(lambda x: \" \".join(x for x in x.split() if x not in stop))"
   ]
  },
  {
   "cell_type": "code",
   "execution_count": 23,
   "metadata": {},
   "outputs": [
    {
     "data": {
      "text/html": [
       "<div>\n",
       "<style scoped>\n",
       "    .dataframe tbody tr th:only-of-type {\n",
       "        vertical-align: middle;\n",
       "    }\n",
       "\n",
       "    .dataframe tbody tr th {\n",
       "        vertical-align: top;\n",
       "    }\n",
       "\n",
       "    .dataframe thead th {\n",
       "        text-align: right;\n",
       "    }\n",
       "</style>\n",
       "<table border=\"1\" class=\"dataframe\">\n",
       "  <thead>\n",
       "    <tr style=\"text-align: right;\">\n",
       "      <th></th>\n",
       "      <th>id</th>\n",
       "      <th>title</th>\n",
       "      <th>labels</th>\n",
       "      <th>fold</th>\n",
       "    </tr>\n",
       "  </thead>\n",
       "  <tbody>\n",
       "    <tr>\n",
       "      <th>0</th>\n",
       "      <td>10000168395</td>\n",
       "      <td>water insecurity poor issues research needs</td>\n",
       "      <td>18377-5\\t18378-3\\t18232-3\\t10488-1\\t10492-3</td>\n",
       "      <td>6</td>\n",
       "    </tr>\n",
       "    <tr>\n",
       "      <th>1</th>\n",
       "      <td>10000168396</td>\n",
       "      <td>crop biotechnology developing countries conceptual framework ex ante economic analyses</td>\n",
       "      <td>18317-2\\t16696-6\\t11529-1\\t10492-3</td>\n",
       "      <td>8</td>\n",
       "    </tr>\n",
       "    <tr>\n",
       "      <th>2</th>\n",
       "      <td>10000338739</td>\n",
       "      <td>medicaid intergovernmental trends options</td>\n",
       "      <td>13415-6\\t19507-6\\t19517-3\\t11600-0\\t17829-1</td>\n",
       "      <td>8</td>\n",
       "    </tr>\n",
       "    <tr>\n",
       "      <th>3</th>\n",
       "      <td>10000413084</td>\n",
       "      <td>state solvency regulation property casualty life insurance companies commission report</td>\n",
       "      <td>13297-0\\t13294-6\\t13818-5\\t12228-3\\t10894-4\\t17829-1</td>\n",
       "      <td>2</td>\n",
       "    </tr>\n",
       "    <tr>\n",
       "      <th>4</th>\n",
       "      <td>10000549504</td>\n",
       "      <td>tax expenditure limits local governments</td>\n",
       "      <td>11553-4\\t11653-0\\t11539-5\\t11731-6\\t17829-1</td>\n",
       "      <td>8</td>\n",
       "    </tr>\n",
       "  </tbody>\n",
       "</table>\n",
       "</div>"
      ],
      "text/plain": [
       "            id  \\\n",
       "0  10000168395   \n",
       "1  10000168396   \n",
       "2  10000338739   \n",
       "3  10000413084   \n",
       "4  10000549504   \n",
       "\n",
       "                                                                                    title  \\\n",
       "0                                             water insecurity poor issues research needs   \n",
       "1  crop biotechnology developing countries conceptual framework ex ante economic analyses   \n",
       "2                                               medicaid intergovernmental trends options   \n",
       "3  state solvency regulation property casualty life insurance companies commission report   \n",
       "4                                                tax expenditure limits local governments   \n",
       "\n",
       "                                                 labels  fold  \n",
       "0           18377-5\\t18378-3\\t18232-3\\t10488-1\\t10492-3     6  \n",
       "1                    18317-2\\t16696-6\\t11529-1\\t10492-3     8  \n",
       "2           13415-6\\t19507-6\\t19517-3\\t11600-0\\t17829-1     8  \n",
       "3  13297-0\\t13294-6\\t13818-5\\t12228-3\\t10894-4\\t17829-1     2  \n",
       "4           11553-4\\t11653-0\\t11539-5\\t11731-6\\t17829-1     8  "
      ]
     },
     "execution_count": 23,
     "metadata": {},
     "output_type": "execute_result"
    }
   ],
   "source": [
    "df1.head()"
   ]
  },
  {
   "cell_type": "code",
   "execution_count": 24,
   "metadata": {},
   "outputs": [],
   "source": [
    "#Lemmatization\n",
    "from textblob import Word\n",
    "df['title'] = df['title'].apply(lambda x: \" \".join([Word(word).lemmatize() for word in x.split()]))"
   ]
  },
  {
   "cell_type": "code",
   "execution_count": 25,
   "metadata": {},
   "outputs": [
    {
     "data": {
      "text/html": [
       "<div>\n",
       "<style scoped>\n",
       "    .dataframe tbody tr th:only-of-type {\n",
       "        vertical-align: middle;\n",
       "    }\n",
       "\n",
       "    .dataframe tbody tr th {\n",
       "        vertical-align: top;\n",
       "    }\n",
       "\n",
       "    .dataframe thead th {\n",
       "        text-align: right;\n",
       "    }\n",
       "</style>\n",
       "<table border=\"1\" class=\"dataframe\">\n",
       "  <thead>\n",
       "    <tr style=\"text-align: right;\">\n",
       "      <th></th>\n",
       "      <th>id</th>\n",
       "      <th>title</th>\n",
       "      <th>labels</th>\n",
       "      <th>fold</th>\n",
       "    </tr>\n",
       "  </thead>\n",
       "  <tbody>\n",
       "    <tr>\n",
       "      <th>0</th>\n",
       "      <td>11882252</td>\n",
       "      <td>cfeom1 classic familial form congenital fibrosis extraocular muscle genetically heterogeneous result mutation arix</td>\n",
       "      <td>Female Fibrosis Genetic Linkage Genetic Variation Haplotypes Homeodomain Proteins Humans Male Mutation Oculomotor Muscles Ophthalmoplegia Pedigree Phenotype</td>\n",
       "      <td>3</td>\n",
       "    </tr>\n",
       "    <tr>\n",
       "      <th>1</th>\n",
       "      <td>11882251</td>\n",
       "      <td>algorithm program finding sequence specific oligonucleotide probe specie identification</td>\n",
       "      <td>Algorithms Computational Biology Cupriavidus necator Databases, Genetic Gammaproteobacteria Oligonucleotide Probes RNA, Bacterial RNA, Ribosomal, 18S RNA, Ribosomal, 28S Software Design Species Specificity Sulfolobus Thermotoga maritima Treponema</td>\n",
       "      <td>0</td>\n",
       "    </tr>\n",
       "    <tr>\n",
       "      <th>2</th>\n",
       "      <td>11922865</td>\n",
       "      <td>nerve growth factor selectively regulates expression transcript encoding ribosomal protein</td>\n",
       "      <td>Animals Gene Expression Profiling Gene Expression Regulation Gene Library Nerve Growth Factor PC12 Cells Pheochromocytoma RNA, Messenger Rats Ribosomal Proteins</td>\n",
       "      <td>0</td>\n",
       "    </tr>\n",
       "    <tr>\n",
       "      <th>3</th>\n",
       "      <td>11879527</td>\n",
       "      <td>use breast conserving surgery linking insurance claim tumor registry data</td>\n",
       "      <td>Age Factors Aged Aged, 80 Breast Neoplasms Databases, Factual Female Hawaii Health Systems Plans Humans Insurance Claim Review Mastectomy, Segmental Medicaid Medicare Middle Aged Neoplasm Staging Pilot Projects SEER Program United States</td>\n",
       "      <td>0</td>\n",
       "    </tr>\n",
       "    <tr>\n",
       "      <th>4</th>\n",
       "      <td>11914147</td>\n",
       "      <td>assessment infectious disease surveillance system republic armenia example surveillance republic former soviet union</td>\n",
       "      <td>Armenia Communicable Disease Control Disease Notification Efficiency, Organizational Guidelines Topic Health Care Reform Humans Management Audit Population Surveillance Public Health Administration Public Health Informatics</td>\n",
       "      <td>7</td>\n",
       "    </tr>\n",
       "  </tbody>\n",
       "</table>\n",
       "</div>"
      ],
      "text/plain": [
       "         id  \\\n",
       "0  11882252   \n",
       "1  11882251   \n",
       "2  11922865   \n",
       "3  11879527   \n",
       "4  11914147   \n",
       "\n",
       "                                                                                                                  title  \\\n",
       "0    cfeom1 classic familial form congenital fibrosis extraocular muscle genetically heterogeneous result mutation arix   \n",
       "1                               algorithm program finding sequence specific oligonucleotide probe specie identification   \n",
       "2                            nerve growth factor selectively regulates expression transcript encoding ribosomal protein   \n",
       "3                                             use breast conserving surgery linking insurance claim tumor registry data   \n",
       "4  assessment infectious disease surveillance system republic armenia example surveillance republic former soviet union   \n",
       "\n",
       "                                                                                                                                                                                                                                                   labels  \\\n",
       "0                                                                                            Female Fibrosis Genetic Linkage Genetic Variation Haplotypes Homeodomain Proteins Humans Male Mutation Oculomotor Muscles Ophthalmoplegia Pedigree Phenotype   \n",
       "1  Algorithms Computational Biology Cupriavidus necator Databases, Genetic Gammaproteobacteria Oligonucleotide Probes RNA, Bacterial RNA, Ribosomal, 18S RNA, Ribosomal, 28S Software Design Species Specificity Sulfolobus Thermotoga maritima Treponema   \n",
       "2                                                                                        Animals Gene Expression Profiling Gene Expression Regulation Gene Library Nerve Growth Factor PC12 Cells Pheochromocytoma RNA, Messenger Rats Ribosomal Proteins   \n",
       "3           Age Factors Aged Aged, 80 Breast Neoplasms Databases, Factual Female Hawaii Health Systems Plans Humans Insurance Claim Review Mastectomy, Segmental Medicaid Medicare Middle Aged Neoplasm Staging Pilot Projects SEER Program United States   \n",
       "4                         Armenia Communicable Disease Control Disease Notification Efficiency, Organizational Guidelines Topic Health Care Reform Humans Management Audit Population Surveillance Public Health Administration Public Health Informatics   \n",
       "\n",
       "   fold  \n",
       "0     3  \n",
       "1     0  \n",
       "2     0  \n",
       "3     0  \n",
       "4     7  "
      ]
     },
     "execution_count": 25,
     "metadata": {},
     "output_type": "execute_result"
    }
   ],
   "source": [
    "df.head()"
   ]
  },
  {
   "cell_type": "code",
   "execution_count": 26,
   "metadata": {},
   "outputs": [],
   "source": [
    "#Lemmatization\n",
    "from textblob import Word\n",
    "df1['title'] = df1['title'].apply(lambda x: \" \".join([Word(word).lemmatize() for word in x.split()]))"
   ]
  },
  {
   "cell_type": "code",
   "execution_count": 27,
   "metadata": {},
   "outputs": [
    {
     "data": {
      "text/html": [
       "<div>\n",
       "<style scoped>\n",
       "    .dataframe tbody tr th:only-of-type {\n",
       "        vertical-align: middle;\n",
       "    }\n",
       "\n",
       "    .dataframe tbody tr th {\n",
       "        vertical-align: top;\n",
       "    }\n",
       "\n",
       "    .dataframe thead th {\n",
       "        text-align: right;\n",
       "    }\n",
       "</style>\n",
       "<table border=\"1\" class=\"dataframe\">\n",
       "  <thead>\n",
       "    <tr style=\"text-align: right;\">\n",
       "      <th></th>\n",
       "      <th>id</th>\n",
       "      <th>title</th>\n",
       "      <th>labels</th>\n",
       "      <th>fold</th>\n",
       "    </tr>\n",
       "  </thead>\n",
       "  <tbody>\n",
       "    <tr>\n",
       "      <th>0</th>\n",
       "      <td>10000168395</td>\n",
       "      <td>water insecurity poor issue research need</td>\n",
       "      <td>18377-5\\t18378-3\\t18232-3\\t10488-1\\t10492-3</td>\n",
       "      <td>6</td>\n",
       "    </tr>\n",
       "    <tr>\n",
       "      <th>1</th>\n",
       "      <td>10000168396</td>\n",
       "      <td>crop biotechnology developing country conceptual framework ex ante economic analysis</td>\n",
       "      <td>18317-2\\t16696-6\\t11529-1\\t10492-3</td>\n",
       "      <td>8</td>\n",
       "    </tr>\n",
       "    <tr>\n",
       "      <th>2</th>\n",
       "      <td>10000338739</td>\n",
       "      <td>medicaid intergovernmental trend option</td>\n",
       "      <td>13415-6\\t19507-6\\t19517-3\\t11600-0\\t17829-1</td>\n",
       "      <td>8</td>\n",
       "    </tr>\n",
       "    <tr>\n",
       "      <th>3</th>\n",
       "      <td>10000413084</td>\n",
       "      <td>state solvency regulation property casualty life insurance company commission report</td>\n",
       "      <td>13297-0\\t13294-6\\t13818-5\\t12228-3\\t10894-4\\t17829-1</td>\n",
       "      <td>2</td>\n",
       "    </tr>\n",
       "    <tr>\n",
       "      <th>4</th>\n",
       "      <td>10000549504</td>\n",
       "      <td>tax expenditure limit local government</td>\n",
       "      <td>11553-4\\t11653-0\\t11539-5\\t11731-6\\t17829-1</td>\n",
       "      <td>8</td>\n",
       "    </tr>\n",
       "  </tbody>\n",
       "</table>\n",
       "</div>"
      ],
      "text/plain": [
       "            id  \\\n",
       "0  10000168395   \n",
       "1  10000168396   \n",
       "2  10000338739   \n",
       "3  10000413084   \n",
       "4  10000549504   \n",
       "\n",
       "                                                                                  title  \\\n",
       "0                                             water insecurity poor issue research need   \n",
       "1  crop biotechnology developing country conceptual framework ex ante economic analysis   \n",
       "2                                               medicaid intergovernmental trend option   \n",
       "3  state solvency regulation property casualty life insurance company commission report   \n",
       "4                                                tax expenditure limit local government   \n",
       "\n",
       "                                                 labels  fold  \n",
       "0           18377-5\\t18378-3\\t18232-3\\t10488-1\\t10492-3     6  \n",
       "1                    18317-2\\t16696-6\\t11529-1\\t10492-3     8  \n",
       "2           13415-6\\t19507-6\\t19517-3\\t11600-0\\t17829-1     8  \n",
       "3  13297-0\\t13294-6\\t13818-5\\t12228-3\\t10894-4\\t17829-1     2  \n",
       "4           11553-4\\t11653-0\\t11539-5\\t11731-6\\t17829-1     8  "
      ]
     },
     "execution_count": 27,
     "metadata": {},
     "output_type": "execute_result"
    }
   ],
   "source": [
    "df1.head()"
   ]
  },
  {
   "cell_type": "markdown",
   "metadata": {},
   "source": [
    "## Features Extraction and Model Building"
   ]
  },
  {
   "cell_type": "code",
   "execution_count": 29,
   "metadata": {},
   "outputs": [
    {
     "name": "stdout",
     "output_type": "stream",
     "text": [
      "Classifier's F1 Score: 16.827600516579558 %\n",
      "Hamming loss: 1.7220543806646524\n"
     ]
    }
   ],
   "source": [
    "from sklearn.pipeline import Pipeline\n",
    "from sklearn.feature_extraction.text import TfidfVectorizer\n",
    "from skmultilearn.adapt import MLkNN\n",
    "from sklearn.model_selection import train_test_split\n",
    "from sklearn.metrics import f1_score\n",
    "from sklearn.metrics import hamming_loss\n",
    "from sklearn.preprocessing import MultiLabelBinarizer\n",
    "from sklearn import metrics # import the metrics class\n",
    "\n",
    "#Create a pipelined calssifier using vectorizer and MLKNN classifer, This will make our classifer fast and efficient\n",
    "#MLkNN Multi label k nearest neighbor: KNN algorithm based classifier\n",
    "clf = Pipeline([(\"vectorizer\", TfidfVectorizer()), (\"classifier\", MLkNN(k=25))])\n",
    "#Extracting values from label column\n",
    "labels = df[\"labels\"].values\n",
    "#Speparete each label in each and every row, as we have upto 10 labels in each row combined by tabs\n",
    "labels = [[l for l in label_string.split()] for label_string in labels]\n",
    "multilabel_binarizer = MultiLabelBinarizer(sparse_output = True)\n",
    "#convert strings based labels into binary form, multilabel binarizer transforms multi labels into single labels\n",
    "multilabel_binarizer.fit(labels)\n",
    "y=multilabel_binarizer.transform(labels)\n",
    "#Extract input values in variable X\n",
    "X=df['title']\n",
    "#Split data into train and test\n",
    "#10% for testing 90% for training\n",
    "X_train, X_test, y_train, y_test = train_test_split(X, y, random_state=42, test_size=0.1)\n",
    "#fit training data\n",
    "clf.fit(X_train, y_train)\n",
    "#predict outputs\n",
    "y_pred = clf.predict(X_test)\n",
    "#Calculate and print accuracy \n",
    "print(\"Classifier's F1 Score:\",f1_score(y_test, y_pred, average=\"samples\")*100,\"%\")\n",
    "#print percentage of wrongly predicted labels\n",
    "print(\"Hamming loss:\",hamming_loss(y_test,y_pred)*100)"
   ]
  },
  {
   "cell_type": "code",
   "execution_count": 30,
   "metadata": {},
   "outputs": [
    {
     "name": "stdout",
     "output_type": "stream",
     "text": [
      "Classifier's F1 Score: 21.050420168067223 %\n",
      "Hamming loss: 0.698236854423467\n"
     ]
    }
   ],
   "source": [
    "#Similar working case to above one but with second dataset econbiz.\n",
    "from sklearn.pipeline import Pipeline\n",
    "from sklearn.feature_extraction.text import TfidfVectorizer\n",
    "from skmultilearn.adapt import MLkNN\n",
    "from sklearn.model_selection import train_test_split\n",
    "from sklearn.metrics import f1_score\n",
    "from sklearn.metrics import hamming_loss\n",
    "from sklearn.preprocessing import MultiLabelBinarizer\n",
    "clf = Pipeline([(\"vectorizer\", TfidfVectorizer()), (\"classifier\", MLkNN())])\n",
    "\n",
    "labels = df1[\"labels\"].values\n",
    "labels = [[l for l in label_string.split()] for label_string in labels]\n",
    "multilabel_binarizer = MultiLabelBinarizer(sparse_output = True)\n",
    "multilabel_binarizer.fit(labels)\n",
    "y1=multilabel_binarizer.transform(labels)\n",
    "X1=df1['title']\n",
    "X_train1, X_test1, y_train1, y_test1 = train_test_split(X1, y1, random_state=42, test_size=0.1)\n",
    "clf.fit(X_train1, y_train1)\n",
    "y_pred1 = clf.predict(X_test1)\n",
    "print(\"Classifier's F1 Score:\",f1_score(y_test1, y_pred1, average=\"samples\")*100,\"%\")\n",
    "print(\"Hamming loss:\",hamming_loss(y_test1,y_pred1)*100)"
   ]
  },
  {
   "cell_type": "code",
   "execution_count": 31,
   "metadata": {},
   "outputs": [
    {
     "name": "stdout",
     "output_type": "stream",
     "text": [
      "Classifier's Accuracy: 23.88312273305209 %\n",
      "Hamming loss: 2.586206896551724\n"
     ]
    }
   ],
   "source": [
    "from sklearn.pipeline import Pipeline\n",
    "from sklearn.feature_extraction.text import TfidfVectorizer\n",
    "from sklearn.metrics import f1_score\n",
    "from sklearn.metrics import hamming_loss\n",
    "from sklearn.naive_bayes import GaussianNB\n",
    "from sklearn.preprocessing import MultiLabelBinarizer\n",
    "from sklearn.model_selection import train_test_split\n",
    "from skmultilearn.problem_transform import LabelPowerset\n",
    "#labelpowerset is problem transforamtion approach to multilabel classification which is used by combining with a classifier\n",
    "#GaussianNb is naive bayes algorithm based classifier\n",
    "clf = Pipeline([(\"vectorizer\", TfidfVectorizer(max_features = 30000)), (\"classifier\", LabelPowerset(GaussianNB()))])\n",
    "\n",
    "labels = df[\"labels\"].values\n",
    "labels = [[l for l in label_string.split()] for label_string in labels]\n",
    "multilabel_binarizer = MultiLabelBinarizer(sparse_output = True)\n",
    "multilabel_binarizer.fit(labels)\n",
    "y=multilabel_binarizer.transform(labels)\n",
    "X=df['title']\n",
    "X_train, X_test, y_train, y_test = train_test_split(X, y, random_state=42, test_size=0.2)\n",
    "clf.fit(X_train, y_train)\n",
    "y_pred = clf.predict(X_test)\n",
    "print(\"Classifier's F1 score:\",f1_score(y_test, y_pred, average=\"samples\")*100,\"%\")\n",
    "print(\"Hamming loss:\",hamming_loss(y_test,y_pred)*100)"
   ]
  },
  {
   "cell_type": "code",
   "execution_count": 32,
   "metadata": {},
   "outputs": [
    {
     "name": "stdout",
     "output_type": "stream",
     "text": [
      "Classifier's Accuracy: 21.891001155707034 %\n",
      "Hamming loss: 1.18973318770479\n"
     ]
    }
   ],
   "source": [
    "#Similar working case to above one but with second dataset econbiz.\n",
    "from sklearn.pipeline import Pipeline\n",
    "from sklearn.feature_extraction.text import TfidfVectorizer\n",
    "from sklearn.metrics import f1_score\n",
    "from sklearn.metrics import hamming_loss\n",
    "from sklearn.naive_bayes import GaussianNB\n",
    "from sklearn.preprocessing import MultiLabelBinarizer\n",
    "from sklearn.model_selection import train_test_split\n",
    "from skmultilearn.problem_transform import LabelPowerset\n",
    "clf = Pipeline([(\"vectorizer\", TfidfVectorizer(max_features = 30000)), (\"classifier\", LabelPowerset(GaussianNB()))])\n",
    "\n",
    "labels = df1[\"labels\"].values\n",
    "labels = [[l for l in label_string.split()] for label_string in labels]\n",
    "multilabel_binarizer = MultiLabelBinarizer(sparse_output = True)\n",
    "multilabel_binarizer.fit(labels)\n",
    "y1=multilabel_binarizer.transform(labels)\n",
    "X1=df1['title']\n",
    "X_train1, X_test1, y_train1, y_test1 = train_test_split(X1, y1, random_state=42, test_size=0.1)\n",
    "clf.fit(X_train1, y_train1)\n",
    "y_pred1 = clf.predict(X_test1)\n",
    "print(\"Classifier's F1 score:\",f1_score(y_test1, y_pred1, average=\"samples\")*100,\"%\")\n",
    "print(\"Hamming loss:\",hamming_loss(y_test1,y_pred1)*100)"
   ]
  }
 ],
 "metadata": {
  "kernelspec": {
   "display_name": "Python 3",
   "language": "python",
   "name": "python3"
  },
  "language_info": {
   "codemirror_mode": {
    "name": "ipython",
    "version": 3
   },
   "file_extension": ".py",
   "mimetype": "text/x-python",
   "name": "python",
   "nbconvert_exporter": "python",
   "pygments_lexer": "ipython3",
   "version": "3.7.6"
  }
 },
 "nbformat": 4,
 "nbformat_minor": 4
}
